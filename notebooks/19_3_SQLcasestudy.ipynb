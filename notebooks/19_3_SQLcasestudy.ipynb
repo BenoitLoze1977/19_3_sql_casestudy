{
 "cells": [
  {
   "cell_type": "markdown",
   "id": "380a9df7-c491-461a-b10c-80387fad9af5",
   "metadata": {},
   "source": [
    "# 0. Table of content:"
   ]
  },
  {
   "cell_type": "markdown",
   "id": "26a89189-1d5c-4eff-8cf0-1f9498c7a06b",
   "metadata": {},
   "source": [
    "[1. Case study, second part assignment:](#1.-Case-study,-second-part-assignment:)  \n",
    "[2.Database connection:](#2.Database-connection:)  \n",
    "[3. Questions:](#3._Questions:)  \n",
    "    - [Question 10:](#Question-10:)  \n",
    "    - [Question 11:](#Question-11:)  \n",
    "    - [Question 12:](#Question-12:)  \n",
    "    - [Question 13:](#Question-13:)  \n"
   ]
  },
  {
   "cell_type": "markdown",
   "id": "0b48ae95-7fb7-4eb1-a85e-d7188d05ed5b",
   "metadata": {},
   "source": [
    "# 1. Case study, second part assignment:"
   ]
  },
  {
   "cell_type": "markdown",
   "id": "8b224018-e8e1-4776-b707-26698736aee9",
   "metadata": {},
   "source": [
    "**PART 2: SQLite**  \n",
    "\n",
    "Export the country club data from PHPMyAdmin, and connect to a local SQLite instance from Jupyter notebook for the following questions.   \n",
    "  \n",
    "**QUESTIONS:**  \n",
    "\n",
    "**Q10: Produce a list of facilities with a total revenue less than 1000.**  \n",
    "The output of facility name and total revenue, sorted by revenue. Remember  \n",
    "that there's a different cost for guests and members!  \n",
    "  \n",
    "**Q11: Produce a report of members and who recommended them in alphabetic surname,firstname order.**  \n",
    "  \n",
    "**Q12: Find the facilities with their usage by member, but not guests.**  \n",
    "  \n",
    "**Q13: Find the facilities usage by month, but not guests**  "
   ]
  },
  {
   "cell_type": "markdown",
   "id": "898ee53f-89d4-4a3d-9d22-114ec1f4791f",
   "metadata": {},
   "source": [
    "# 2.Database connection:"
   ]
  },
  {
   "cell_type": "code",
   "execution_count": 7,
   "id": "05f72aa1-1d09-4350-b060-10d15db94c8b",
   "metadata": {},
   "outputs": [],
   "source": [
    "from sqlalchemy import create_engine\n",
    "import requests\n",
    "import pandas as pd"
   ]
  },
  {
   "cell_type": "code",
   "execution_count": 8,
   "id": "0ceb78d0-5b34-4463-ac08-0fd245a45ba5",
   "metadata": {},
   "outputs": [
    {
     "name": "stdout",
     "output_type": "stream",
     "text": [
      "Database downloaded successfully.\n"
     ]
    }
   ],
   "source": [
    "# url = \"https://github.com/BenoitLoze1977/19_3_sql_casestudy/raw/master/data/raw/sqlite_db_pythonsqlite.db\"\n",
    "# output_path = \"sqlite_db_pythonsqlite.db\"\n",
    "\n",
    "# # Download the file\n",
    "# r = requests.get(url)\n",
    "# with open(output_path, \"wb\") as f:\n",
    "#     f.write(r.content)\n",
    "\n",
    "# print(\"Database downloaded successfully.\")"
   ]
  },
  {
   "cell_type": "code",
   "execution_count": 9,
   "id": "b325ffbc-a3dc-45c6-8af3-a86729aea9da",
   "metadata": {},
   "outputs": [],
   "source": [
    "engine = create_engine(\"sqlite:///sqlite_db_pythonsqlite.db\")"
   ]
  },
  {
   "cell_type": "markdown",
   "id": "38f2ebe3-5b51-4e1e-83dc-9cccadc5fcbe",
   "metadata": {},
   "source": [
    "# 3. Questions:"
   ]
  },
  {
   "cell_type": "markdown",
   "id": "47a6e93d-c725-49ab-aa9c-baac85d0fb98",
   "metadata": {},
   "source": [
    "## Question 10:"
   ]
  },
  {
   "cell_type": "code",
   "execution_count": 12,
   "id": "5a4142b0-b465-4903-a643-ec70b7c795b8",
   "metadata": {},
   "outputs": [
    {
     "data": {
      "text/html": [
       "<div>\n",
       "<style scoped>\n",
       "    .dataframe tbody tr th:only-of-type {\n",
       "        vertical-align: middle;\n",
       "    }\n",
       "\n",
       "    .dataframe tbody tr th {\n",
       "        vertical-align: top;\n",
       "    }\n",
       "\n",
       "    .dataframe thead th {\n",
       "        text-align: right;\n",
       "    }\n",
       "</style>\n",
       "<table border=\"1\" class=\"dataframe\">\n",
       "  <thead>\n",
       "    <tr style=\"text-align: right;\">\n",
       "      <th></th>\n",
       "      <th>facility_name</th>\n",
       "      <th>total_revenue</th>\n",
       "    </tr>\n",
       "  </thead>\n",
       "  <tbody>\n",
       "    <tr>\n",
       "      <th>0</th>\n",
       "      <td>Table Tennis</td>\n",
       "      <td>180</td>\n",
       "    </tr>\n",
       "    <tr>\n",
       "      <th>1</th>\n",
       "      <td>Snooker Table</td>\n",
       "      <td>240</td>\n",
       "    </tr>\n",
       "    <tr>\n",
       "      <th>2</th>\n",
       "      <td>Pool Table</td>\n",
       "      <td>270</td>\n",
       "    </tr>\n",
       "  </tbody>\n",
       "</table>\n",
       "</div>"
      ],
      "text/plain": [
       "   facility_name  total_revenue\n",
       "0   Table Tennis            180\n",
       "1  Snooker Table            240\n",
       "2     Pool Table            270"
      ]
     },
     "execution_count": 12,
     "metadata": {},
     "output_type": "execute_result"
    }
   ],
   "source": [
    "query10 = \"\"\"\n",
    "SELECT\n",
    "\tsub.facility_name,\n",
    "    SUM(total_cost) AS total_revenue\n",
    "FROM (\n",
    "\tSELECT\n",
    "\t\tf.name AS facility_name,\n",
    "\t\tCASE\n",
    "\t\t\tWHEN b.memid = 0\n",
    "\t\t\tTHEN f.guestcost * b.slots\n",
    "\t\t\tELSE f.membercost * b.slots\n",
    "\t\tEND AS total_cost\n",
    "\tFROM Bookings AS b\n",
    "\tINNER JOIN Facilities AS f\n",
    "\tON b.facid = f.facid\n",
    "\tINNER JOIN Members AS m\n",
    "\tON b.memid = m.memid\n",
    "    ) AS sub\n",
    "GROUP BY sub.facility_name\n",
    "HAVING total_revenue < 1000\n",
    "ORDER BY total_revenue;\n",
    "\"\"\"\n",
    "\n",
    "# Run the query and load the result into a DataFrame\n",
    "df = pd.read_sql_query(query10, engine)\n",
    "\n",
    "# Display the result\n",
    "df.head()"
   ]
  },
  {
   "cell_type": "markdown",
   "id": "37c29d0a-2f2e-4d4b-bd20-a93da5cf3dde",
   "metadata": {},
   "source": [
    "## Question 11:"
   ]
  },
  {
   "cell_type": "code",
   "execution_count": 14,
   "id": "8371f029-ddc4-4f12-819f-63c67e988c2d",
   "metadata": {},
   "outputs": [
    {
     "data": {
      "text/html": [
       "<div>\n",
       "<style scoped>\n",
       "    .dataframe tbody tr th:only-of-type {\n",
       "        vertical-align: middle;\n",
       "    }\n",
       "\n",
       "    .dataframe tbody tr th {\n",
       "        vertical-align: top;\n",
       "    }\n",
       "\n",
       "    .dataframe thead th {\n",
       "        text-align: right;\n",
       "    }\n",
       "</style>\n",
       "<table border=\"1\" class=\"dataframe\">\n",
       "  <thead>\n",
       "    <tr style=\"text-align: right;\">\n",
       "      <th></th>\n",
       "      <th>member</th>\n",
       "      <th>recommended_by</th>\n",
       "    </tr>\n",
       "  </thead>\n",
       "  <tbody>\n",
       "    <tr>\n",
       "      <th>0</th>\n",
       "      <td>Bader, Florence</td>\n",
       "      <td>Stibbons, Ponder</td>\n",
       "    </tr>\n",
       "    <tr>\n",
       "      <th>1</th>\n",
       "      <td>Baker, Anne</td>\n",
       "      <td>Stibbons, Ponder</td>\n",
       "    </tr>\n",
       "    <tr>\n",
       "      <th>2</th>\n",
       "      <td>Baker, Timothy</td>\n",
       "      <td>Farrell, Jemima</td>\n",
       "    </tr>\n",
       "    <tr>\n",
       "      <th>3</th>\n",
       "      <td>Boothe, Tim</td>\n",
       "      <td>Rownam, Tim</td>\n",
       "    </tr>\n",
       "    <tr>\n",
       "      <th>4</th>\n",
       "      <td>Butters, Gerald</td>\n",
       "      <td>Smith, Darren</td>\n",
       "    </tr>\n",
       "  </tbody>\n",
       "</table>\n",
       "</div>"
      ],
      "text/plain": [
       "            member    recommended_by\n",
       "0  Bader, Florence  Stibbons, Ponder\n",
       "1      Baker, Anne  Stibbons, Ponder\n",
       "2   Baker, Timothy   Farrell, Jemima\n",
       "3      Boothe, Tim       Rownam, Tim\n",
       "4  Butters, Gerald     Smith, Darren"
      ]
     },
     "execution_count": 14,
     "metadata": {},
     "output_type": "execute_result"
    }
   ],
   "source": [
    "# SQLite supports string concatenation using the || operator instead of CONCAT_WS().\n",
    "query11 = \"\"\"\n",
    "SELECT\n",
    "    m1.surname || ', ' || m1.firstname AS member,\n",
    "    m2.surname || ', ' || m2.firstname AS recommended_by\n",
    "FROM Members AS m1\n",
    "JOIN Members AS m2\n",
    "ON m1.recommendedby = m2.memid\n",
    "ORDER by member;\n",
    "\"\"\"\n",
    "\n",
    "# Run the query and load the result into a DataFrame\n",
    "df = pd.read_sql_query(query11, engine)\n",
    "\n",
    "# Display the result\n",
    "df.head()"
   ]
  },
  {
   "cell_type": "markdown",
   "id": "8b12a353-3023-495b-ad85-9630d82ba054",
   "metadata": {},
   "source": [
    "## Question 12:"
   ]
  },
  {
   "cell_type": "code",
   "execution_count": 16,
   "id": "c7f31137-1e7e-4194-b16d-ed949e5f6af6",
   "metadata": {},
   "outputs": [
    {
     "data": {
      "text/html": [
       "<div>\n",
       "<style scoped>\n",
       "    .dataframe tbody tr th:only-of-type {\n",
       "        vertical-align: middle;\n",
       "    }\n",
       "\n",
       "    .dataframe tbody tr th {\n",
       "        vertical-align: top;\n",
       "    }\n",
       "\n",
       "    .dataframe thead th {\n",
       "        text-align: right;\n",
       "    }\n",
       "</style>\n",
       "<table border=\"1\" class=\"dataframe\">\n",
       "  <thead>\n",
       "    <tr style=\"text-align: right;\">\n",
       "      <th></th>\n",
       "      <th>name</th>\n",
       "      <th>member_usage_count</th>\n",
       "    </tr>\n",
       "  </thead>\n",
       "  <tbody>\n",
       "    <tr>\n",
       "      <th>0</th>\n",
       "      <td>Pool Table</td>\n",
       "      <td>783</td>\n",
       "    </tr>\n",
       "    <tr>\n",
       "      <th>1</th>\n",
       "      <td>Snooker Table</td>\n",
       "      <td>421</td>\n",
       "    </tr>\n",
       "    <tr>\n",
       "      <th>2</th>\n",
       "      <td>Massage Room 1</td>\n",
       "      <td>421</td>\n",
       "    </tr>\n",
       "    <tr>\n",
       "      <th>3</th>\n",
       "      <td>Table Tennis</td>\n",
       "      <td>385</td>\n",
       "    </tr>\n",
       "    <tr>\n",
       "      <th>4</th>\n",
       "      <td>Badminton Court</td>\n",
       "      <td>344</td>\n",
       "    </tr>\n",
       "  </tbody>\n",
       "</table>\n",
       "</div>"
      ],
      "text/plain": [
       "              name  member_usage_count\n",
       "0       Pool Table                 783\n",
       "1    Snooker Table                 421\n",
       "2   Massage Room 1                 421\n",
       "3     Table Tennis                 385\n",
       "4  Badminton Court                 344"
      ]
     },
     "execution_count": 16,
     "metadata": {},
     "output_type": "execute_result"
    }
   ],
   "source": [
    "query12 = \"\"\"\n",
    "SELECT\n",
    "\tf.name,\n",
    "    COUNT(*) AS member_usage_count\n",
    "FROM Bookings AS b\n",
    "INNER JOIN Facilities AS f\n",
    "ON b.facid = f.facid\n",
    "INNER JOIN Members AS m\n",
    "ON b.memid = m.memid\n",
    "WHERE b.memid <> 0\n",
    "GROUP BY f.name\n",
    "ORDER BY member_usage_count DESC;\n",
    "\"\"\"\n",
    "\n",
    "# Run the query and load the result into a DataFrame\n",
    "df = pd.read_sql_query(query12, engine)\n",
    "\n",
    "# Display the result\n",
    "df.head()\n"
   ]
  },
  {
   "cell_type": "markdown",
   "id": "d6955162-e342-49e5-bbf6-22c9c8138cb9",
   "metadata": {},
   "source": [
    "## Question 13:"
   ]
  },
  {
   "cell_type": "code",
   "execution_count": 18,
   "id": "b3de2e2d-00cc-4edc-ac5b-45f77f0a5dd7",
   "metadata": {},
   "outputs": [
    {
     "data": {
      "text/html": [
       "<div>\n",
       "<style scoped>\n",
       "    .dataframe tbody tr th:only-of-type {\n",
       "        vertical-align: middle;\n",
       "    }\n",
       "\n",
       "    .dataframe tbody tr th {\n",
       "        vertical-align: top;\n",
       "    }\n",
       "\n",
       "    .dataframe thead th {\n",
       "        text-align: right;\n",
       "    }\n",
       "</style>\n",
       "<table border=\"1\" class=\"dataframe\">\n",
       "  <thead>\n",
       "    <tr style=\"text-align: right;\">\n",
       "      <th></th>\n",
       "      <th>facility_name</th>\n",
       "      <th>month</th>\n",
       "      <th>member_usage_count</th>\n",
       "    </tr>\n",
       "  </thead>\n",
       "  <tbody>\n",
       "    <tr>\n",
       "      <th>0</th>\n",
       "      <td>Pool Table</td>\n",
       "      <td>2012-09</td>\n",
       "      <td>408</td>\n",
       "    </tr>\n",
       "    <tr>\n",
       "      <th>1</th>\n",
       "      <td>Snooker Table</td>\n",
       "      <td>2012-09</td>\n",
       "      <td>199</td>\n",
       "    </tr>\n",
       "    <tr>\n",
       "      <th>2</th>\n",
       "      <td>Table Tennis</td>\n",
       "      <td>2012-09</td>\n",
       "      <td>194</td>\n",
       "    </tr>\n",
       "    <tr>\n",
       "      <th>3</th>\n",
       "      <td>Massage Room 1</td>\n",
       "      <td>2012-09</td>\n",
       "      <td>191</td>\n",
       "    </tr>\n",
       "    <tr>\n",
       "      <th>4</th>\n",
       "      <td>Badminton Court</td>\n",
       "      <td>2012-09</td>\n",
       "      <td>161</td>\n",
       "    </tr>\n",
       "  </tbody>\n",
       "</table>\n",
       "</div>"
      ],
      "text/plain": [
       "     facility_name    month  member_usage_count\n",
       "0       Pool Table  2012-09                 408\n",
       "1    Snooker Table  2012-09                 199\n",
       "2     Table Tennis  2012-09                 194\n",
       "3   Massage Room 1  2012-09                 191\n",
       "4  Badminton Court  2012-09                 161"
      ]
     },
     "execution_count": 18,
     "metadata": {},
     "output_type": "execute_result"
    }
   ],
   "source": [
    "# SQLite does not support DATE_FORMAT():\n",
    "query13 = \"\"\"\n",
    "SELECT\n",
    "\tf.name AS facility_name,\n",
    "    STRFTIME('%Y-%m', b.starttime) AS month,\n",
    "    COUNT(*) AS member_usage_count\n",
    "FROM Bookings AS b\n",
    "INNER JOIN Facilities AS f\n",
    "ON b.facid = f.facid\n",
    "INNER JOIN Members AS m\n",
    "ON b.memid = m.memid\n",
    "WHERE b.memid <> 0\n",
    "GROUP BY f.name, STRFTIME('%Y-%m', b.starttime)\n",
    "ORDER BY month DESC, member_usage_count DESC;\n",
    "\"\"\"\n",
    "\n",
    "# Run the query and load the result into a DataFrame\n",
    "df = pd.read_sql_query(query13, engine)\n",
    "\n",
    "# Display the result\n",
    "df.head()"
   ]
  },
  {
   "cell_type": "code",
   "execution_count": null,
   "id": "5d52bc03-2112-4024-b96a-a25162d84a76",
   "metadata": {},
   "outputs": [],
   "source": []
  }
 ],
 "metadata": {
  "kernelspec": {
   "display_name": "Python 3 (ipykernel)",
   "language": "python",
   "name": "python3"
  },
  "language_info": {
   "codemirror_mode": {
    "name": "ipython",
    "version": 3
   },
   "file_extension": ".py",
   "mimetype": "text/x-python",
   "name": "python",
   "nbconvert_exporter": "python",
   "pygments_lexer": "ipython3",
   "version": "3.11.7"
  }
 },
 "nbformat": 4,
 "nbformat_minor": 5
}
